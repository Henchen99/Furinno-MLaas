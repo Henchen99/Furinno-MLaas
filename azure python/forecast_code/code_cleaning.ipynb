{
 "cells": [
  {
   "cell_type": "code",
   "execution_count": 7,
   "metadata": {},
   "outputs": [],
   "source": [
    "import numpy as np\n",
    "import pandas as pd"
   ]
  },
  {
   "cell_type": "code",
   "execution_count": 8,
   "metadata": {},
   "outputs": [],
   "source": [
    "# Load dataset\n",
    "sales_df = pd.read_excel('22-21daily.xlsx')\n",
    "inv_df = pd.read_excel('Furinno + Amazon Inventory.xlsx')"
   ]
  },
  {
   "cell_type": "code",
   "execution_count": 9,
   "metadata": {},
   "outputs": [],
   "source": [
    "# Drop unnecessary columns\n",
    "sales_df.drop(columns=['Unnamed: 28'], inplace=True)"
   ]
  },
  {
   "cell_type": "code",
   "execution_count": 10,
   "metadata": {},
   "outputs": [],
   "source": [
    "# Drop rows with NaN values\n",
    "sales_df.dropna(inplace=True)"
   ]
  },
  {
   "cell_type": "code",
   "execution_count": 12,
   "metadata": {},
   "outputs": [],
   "source": [
    "# Drop rows with weird characters like â€”, Â—, Ã¢Â€Â—\n",
    "sales_df = sales_df[~sales_df.stack().str.contains('â€”').groupby(level=0).any()]\n",
    "sales_df = sales_df[~sales_df.stack().str.contains('Â—').groupby(level=0).any()]\n",
    "sales_df = sales_df[~sales_df.stack().str.contains('Ã¢Â€Â”').groupby(level=0).any()]"
   ]
  },
  {
   "cell_type": "code",
   "execution_count": 13,
   "metadata": {},
   "outputs": [
    {
     "name": "stderr",
     "output_type": "stream",
     "text": [
      "c:\\Users\\Asus\\anaconda3\\envs\\machinelearning\\lib\\site-packages\\ipykernel_launcher.py:9: FutureWarning: The default value of regex will change from True to False in a future version. In addition, single character regular expressions will *not* be treated as literal strings when regex=True.\n",
      "  if __name__ == '__main__':\n",
      "c:\\Users\\Asus\\anaconda3\\envs\\machinelearning\\lib\\site-packages\\ipykernel_launcher.py:10: FutureWarning: The default value of regex will change from True to False in a future version. In addition, single character regular expressions will *not* be treated as literal strings when regex=True.\n",
      "  # Remove the CWD from sys.path while we load stuff.\n"
     ]
    }
   ],
   "source": [
    "# Code below replaces all cells that have $, %, or , to nothing so can be converted to floats\n",
    "replacement = {\n",
    "     \"$\": \"\",\n",
    "    \"%\": \"\",\n",
    "    \",\": \"\"\n",
    " }\n",
    "for i in (sales_df.columns):\n",
    "    sales_df[i] = sales_df[i].replace(replacement,regex=True)\n",
    "    sales_df['Shipped COGS'] = sales_df['Shipped COGS'].str.replace('$','')\n",
    "    sales_df['Average Sales Price'] = sales_df['Average Sales Price'].str.replace('$','')"
   ]
  },
  {
   "cell_type": "code",
   "execution_count": 14,
   "metadata": {},
   "outputs": [],
   "source": [
    "# Convert all columns to floats\n",
    "for i in sales_df.columns:\n",
    "    \n",
    "    try:\n",
    "        sales_df[i]=sales_df[i].astype('float64')\n",
    "    except ValueError as ve:\n",
    "       sales_df[i]=sales_df[i].astype('object')\n",
    "    except TypeError as te:\n",
    "        sales_df[i]=sales_df[i].astype('datetime64[ns]')"
   ]
  },
  {
   "cell_type": "code",
   "execution_count": 15,
   "metadata": {},
   "outputs": [],
   "source": [
    "# Merge sales and inventory dataframes\n",
    "sal_inv_data = pd.merge(sales_df, inv_df, on = ['Date', 'ASIN'])"
   ]
  },
  {
   "cell_type": "code",
   "execution_count": 17,
   "metadata": {},
   "outputs": [],
   "source": [
    "# sal_inv_data.to_excel('cleaned_sal_inv_data.xlsx')"
   ]
  }
 ],
 "metadata": {
  "kernelspec": {
   "display_name": "machinelearning",
   "language": "python",
   "name": "python3"
  },
  "language_info": {
   "codemirror_mode": {
    "name": "ipython",
    "version": 3
   },
   "file_extension": ".py",
   "mimetype": "text/x-python",
   "name": "python",
   "nbconvert_exporter": "python",
   "pygments_lexer": "ipython3",
   "version": "3.7.3"
  },
  "orig_nbformat": 4
 },
 "nbformat": 4,
 "nbformat_minor": 2
}
